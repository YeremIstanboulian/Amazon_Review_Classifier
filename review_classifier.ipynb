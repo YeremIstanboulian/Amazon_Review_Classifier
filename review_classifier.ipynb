{
 "cells": [
  {
   "cell_type": "code",
   "execution_count": 133,
   "metadata": {},
   "outputs": [],
   "source": [
    "# Import Packages\n",
    "import numpy as np\n",
    "import pandas as pd\n",
    "from sklearn.feature_extraction.text import CountVectorizer\n",
    "from sklearn.naive_bayes import MultinomialNB\n",
    "from sklearn.metrics import accuracy_score, precision_score, recall_score\n",
    "import time"
   ]
  },
  {
   "cell_type": "code",
   "execution_count": 134,
   "metadata": {},
   "outputs": [],
   "source": [
    "# Read in data to pandas dataframes\n",
    "train = pd.read_csv('training.txt', header = None)\n",
    "train = train.rename(columns={0: \"text\", 1: \"good\"})\n",
    "X_train = train['text']\n",
    "y_train = train['good']\n",
    "test = pd.read_csv('testing.txt', header = None)\n",
    "test = test.rename(columns={0: \"text\", 1: \"good\"})\n",
    "X_test = test['text']\n",
    "y_test = test['good']"
   ]
  },
  {
   "cell_type": "code",
   "execution_count": 144,
   "metadata": {},
   "outputs": [],
   "source": [
    "# Modify the default english stop words, to not include \"no\" and \"not\"\n",
    "from sklearn.feature_extraction import text\n",
    "custom_stop = set(text.ENGLISH_STOP_WORDS)\n",
    "custom_stop.remove('not')\n",
    "custom_stop.remove('no')"
   ]
  },
  {
   "cell_type": "code",
   "execution_count": 145,
   "metadata": {},
   "outputs": [],
   "source": [
    "# Run Naive bayes algorithm\n",
    "start_nb = time.time()\n",
    "cv = CountVectorizer(stop_words = custom_stop)\n",
    "train_cv = cv.fit_transform(X_train)\n",
    "test_cv = cv.transform(X_test)\n",
    "mnb = MultinomialNB()\n",
    "mnb.fit(train_cv, y_train)\n",
    "predictions = mnb.predict(test_cv)\n",
    "end_nb = time.time()"
   ]
  },
  {
   "cell_type": "code",
   "execution_count": 146,
   "metadata": {},
   "outputs": [
    {
     "name": "stdout",
     "output_type": "stream",
     "text": [
      "Accuracy Metrics:\n",
      "Accuracy: 0.8500100060036022\n",
      "Precision: 0.8574679354571784\n",
      "Recall: 0.8365287588294652\n",
      "Time: 5.8811211585998535 seconds\n"
     ]
    }
   ],
   "source": [
    "# Report results\n",
    "print('Accuracy Metrics:')\n",
    "print('Accuracy:', accuracy_score(y_test, predictions))\n",
    "print('Precision:', precision_score(y_test, predictions))\n",
    "print('Recall:', recall_score(y_test, predictions))\n",
    "print('Time:', (end_nb - start_nb), 'seconds')"
   ]
  },
  {
   "cell_type": "code",
   "execution_count": 151,
   "metadata": {},
   "outputs": [
    {
     "name": "stdout",
     "output_type": "stream",
     "text": [
      "Important words in negative reviews\n",
      "not\n",
      "no\n",
      "just\n",
      "bad\n",
      "game\n",
      "-----------------------------------------\n",
      "Important words in positive reviews\n",
      "great\n",
      "fun\n",
      "best\n",
      "love\n",
      "good\n"
     ]
    }
   ],
   "source": [
    "# Print 5 most important negative and positive words\n",
    "n = 5\n",
    "class_labels = mnb.classes_\n",
    "feature_names =cv.get_feature_names()\n",
    "diff_neg = sorted(zip(np.exp(mnb.feature_log_prob_[0]) - np.exp(mnb.feature_log_prob_[1]), feature_names),reverse=True)[:n]\n",
    "diff_pos = sorted(zip(np.exp(mnb.feature_log_prob_[1]) - np.exp(mnb.feature_log_prob_[0]), feature_names),reverse=True)[:n]\n",
    "print(\"Important words in negative reviews\")\n",
    "for coef, feat in diff_neg:\n",
    "    print(feat)\n",
    "print(\"-----------------------------------------\")\n",
    "print(\"Important words in positive reviews\")\n",
    "for coef, feat in diff_pos:\n",
    "    print(feat)"
   ]
  },
  {
   "cell_type": "code",
   "execution_count": 152,
   "metadata": {},
   "outputs": [
    {
     "name": "stdout",
     "output_type": "stream",
     "text": [
      "Enter a new review to predict its sentiment: this game was not good\n",
      "----------------------------------------------------------------------------------\n",
      "Prediction is negative review\n"
     ]
    }
   ],
   "source": [
    "com = input('Enter a new review to predict its sentiment: ')\n",
    "print('----------------------------------------------------------------------------------')\n",
    "com_series = pd.Series(com)\n",
    "user_cv = cv.transform(com_series)\n",
    "com_prediction = mnb.predict(user_cv)\n",
    "if(com_prediction == 1):\n",
    "    print(\"Prediction is positive review\")\n",
    "else:\n",
    "    print(\"Prediction is negative review\")"
   ]
  },
  {
   "cell_type": "code",
   "execution_count": null,
   "metadata": {},
   "outputs": [],
   "source": []
  }
 ],
 "metadata": {
  "kernelspec": {
   "display_name": "Python 3",
   "language": "python",
   "name": "python3"
  },
  "language_info": {
   "codemirror_mode": {
    "name": "ipython",
    "version": 3
   },
   "file_extension": ".py",
   "mimetype": "text/x-python",
   "name": "python",
   "nbconvert_exporter": "python",
   "pygments_lexer": "ipython3",
   "version": "3.7.4"
  }
 },
 "nbformat": 4,
 "nbformat_minor": 2
}
