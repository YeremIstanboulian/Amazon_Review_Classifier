{
 "cells": [
  {
   "cell_type": "code",
   "execution_count": 145,
   "metadata": {},
   "outputs": [],
   "source": [
    "# Import Packages\n",
    "import numpy\n",
    "import pandas as pd\n",
    "from sklearn.feature_extraction.text import CountVectorizer\n",
    "from sklearn.naive_bayes import MultinomialNB\n",
    "from sklearn.metrics import accuracy_score, precision_score, recall_score\n",
    "import time"
   ]
  },
  {
   "cell_type": "code",
   "execution_count": 146,
   "metadata": {},
   "outputs": [],
   "source": [
    "# Read in data to pandas dataframes\n",
    "train = pd.read_csv('training.txt', header = None)\n",
    "train = train.rename(columns={0: \"text\", 1: \"good\"})\n",
    "X_train = train['text']\n",
    "y_train = train['good']\n",
    "test = pd.read_csv('testing.txt', header = None)\n",
    "test = test.rename(columns={0: \"text\", 1: \"good\"})\n",
    "X_test = test['text']\n",
    "y_test = test['good']"
   ]
  },
  {
   "cell_type": "code",
   "execution_count": 160,
   "metadata": {},
   "outputs": [],
   "source": [
    "# Run Naive bayes algorithm\n",
    "start_nb = time.time()\n",
    "cv = CountVectorizer(stop_words='english')\n",
    "train_cv = cv.fit_transform(X_train)\n",
    "test_cv = cv.transform(X_test)\n",
    "mnb = MultinomialNB()\n",
    "mnb.fit(train_cv, y_train)\n",
    "predictions = mnb.predict(test_cv)\n",
    "end_nb = time.time()"
   ]
  },
  {
   "cell_type": "code",
   "execution_count": 161,
   "metadata": {},
   "outputs": [
    {
     "name": "stdout",
     "output_type": "stream",
     "text": [
      "Accuracy: 0.8460076045627376\n",
      "Precision: 0.8505747126436781\n",
      "Recall: 0.8363269424823411\n",
      "Time: 5.81065821647644 seconds\n"
     ]
    }
   ],
   "source": [
    "# Report results\n",
    "print('Accuracy:', accuracy_score(y_test, predictions))\n",
    "print('Precision:', precision_score(y_test, predictions))\n",
    "print('Recall:', recall_score(y_test, predictions))\n",
    "print('Time:', (end_nb - start_nb), 'seconds')"
   ]
  },
  {
   "cell_type": "code",
   "execution_count": null,
   "metadata": {},
   "outputs": [],
   "source": []
  }
 ],
 "metadata": {
  "kernelspec": {
   "display_name": "Python 3",
   "language": "python",
   "name": "python3"
  },
  "language_info": {
   "codemirror_mode": {
    "name": "ipython",
    "version": 3
   },
   "file_extension": ".py",
   "mimetype": "text/x-python",
   "name": "python",
   "nbconvert_exporter": "python",
   "pygments_lexer": "ipython3",
   "version": "3.7.4"
  }
 },
 "nbformat": 4,
 "nbformat_minor": 2
}
